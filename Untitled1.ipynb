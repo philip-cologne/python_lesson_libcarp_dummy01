{
 "cells": [
  {
   "cell_type": "markdown",
   "metadata": {},
   "source": [
    "# Starting point"
   ]
  },
  {
   "cell_type": "code",
   "execution_count": 7,
   "metadata": {},
   "outputs": [
    {
     "name": "stdout",
     "output_type": "stream",
     "text": [
      "https://raw.githubusercontent.com/OpenAPC/openapc-de/master/data/fuberlin/APC_FU_Berlin_2015.csv\n",
      "openapc_berlin.csv\n",
      "https://raw.githubusercontent.com/OpenAPC/openapc-de/master/data/unifrankfurt/open_apc_2018jul-dez_final_enriched.csv\n",
      "openapc_frankfurt.csv\n",
      "https://raw.githubusercontent.com/OpenAPC/openapc-de/master/data/unimuenster/ULB-Muenster_Open-Access-Fonds_Kosten_2018_enriched.csv\n",
      "openapc_muenster.csv\n"
     ]
    }
   ],
   "source": [
    "url_and_filename = {\"https://raw.githubusercontent.com/OpenAPC/openapc-de/\"\n",
    "                    \"master/data/fuberlin/APC_FU_Berlin_2015.csv\" : \n",
    "                    \"openapc_berlin.csv\",\n",
    "                    \n",
    "                    \"https://raw.githubusercontent.com/OpenAPC/openapc-de/\"\n",
    "                    \"master/data/unifrankfurt/open_apc_2018jul-dez_final_enriched.csv\" :\n",
    "                    \"openapc_frankfurt.csv\",\n",
    "                    \n",
    "                    \"https://raw.githubusercontent.com/OpenAPC/openapc-de/\"\n",
    "                    \"master/data/unimuenster/ULB-Muenster_Open-Access-Fonds_Kosten_2018_enriched.csv\" :\n",
    "                    \"openapc_muenster.csv\"}\n",
    "\n",
    "for key, value in url_and_filename.items():\n",
    "    print(key)\n",
    "    print(value)"
   ]
  },
  {
   "cell_type": "code",
   "execution_count": 41,
   "metadata": {},
   "outputs": [],
   "source": [
    "import urllib.request\n",
    "import pandas as pd\n",
    "import matplotlib.pyplot as plt"
   ]
  },
  {
   "cell_type": "code",
   "execution_count": 44,
   "metadata": {},
   "outputs": [
    {
     "name": "stdout",
     "output_type": "stream",
     "text": [
      "https://raw.githubusercontent.com/OpenAPC/openapc-de/master/data/fuberlin/APC_FU_Berlin_2015.csv\n",
      "openapc_berlin.csv\n"
     ]
    },
    {
     "data": {
      "image/png": "[encoded data removed]",
      "text/plain": [
       "<Figure size 432x288 with 1 Axes>"
      ]
     },
     "metadata": {
      "needs_background": "light"
     },
     "output_type": "display_data"
    },
    {
     "name": "stdout",
     "output_type": "stream",
     "text": [
      "FU Berlin\n",
      "https://raw.githubusercontent.com/OpenAPC/openapc-de/master/data/unifrankfurt/open_apc_2018jul-dez_final_enriched.csv\n",
      "openapc_frankfurt.csv\n"
     ]
    },
    {
     "data": {
      "image/png": "[encoded data removed]",
      "text/plain": [
       "<Figure size 432x288 with 1 Axes>"
      ]
     },
     "metadata": {
      "needs_background": "light"
     },
     "output_type": "display_data"
    },
    {
     "name": "stdout",
     "output_type": "stream",
     "text": [
      "Frankfurt U\n",
      "https://raw.githubusercontent.com/OpenAPC/openapc-de/master/data/unimuenster/ULB-Muenster_Open-Access-Fonds_Kosten_2018_enriched.csv\n",
      "openapc_muenster.csv\n"
     ]
    },
    {
     "data": {
      "image/png": "[encoded data removed]",
      "text/plain": [
       "<Figure size 432x288 with 1 Axes>"
      ]
     },
     "metadata": {
      "needs_background": "light"
     },
     "output_type": "display_data"
    },
    {
     "name": "stdout",
     "output_type": "stream",
     "text": [
      "Münster U\n"
     ]
    }
   ],
   "source": [
    "for url, filename in url_and_filename.items():\n",
    "    print(url)\n",
    "    print(filename)\n",
    "    urllib.request.urlretrieve(url, filename)\n",
    "    apcs = pd.read_csv(filename)\n",
    "    apcs[\"euro\"].hist(color=\"yellow\", bins=20)\n",
    "    plt.show()\n",
    "    \n",
    "    print(apcs.loc[1, \"institution\"])\n",
    "    # print(apcs.iloc[1, 1])\n",
    "    \n",
    "    \n",
    "  \n",
    "    "
   ]
  },
  {
   "cell_type": "code",
   "execution_count": 19,
   "metadata": {},
   "outputs": [
    {
     "ename": "SyntaxError",
     "evalue": "can't assign to function call (<ipython-input-19-2b3affe6a108>, line 1)",
     "output_type": "error",
     "traceback": [
      "\u001b[1;36m  File \u001b[1;32m\"<ipython-input-19-2b3affe6a108>\"\u001b[1;36m, line \u001b[1;32m1\u001b[0m\n\u001b[1;33m    apc_file(1) = \"openapc_berlin.csv\"\u001b[0m\n\u001b[1;37m                                      ^\u001b[0m\n\u001b[1;31mSyntaxError\u001b[0m\u001b[1;31m:\u001b[0m can't assign to function call\n"
     ]
    }
   ],
   "source": [
    "apc_file(1) = \"openapc_berlin.csv\"\n",
    "apc_file(2) = \"openapc_frankfurt.csv\"\n",
    "apc_file(3) = \"openapc_muenster.csv\""
   ]
  },
  {
   "cell_type": "code",
   "execution_count": 17,
   "metadata": {},
   "outputs": [],
   "source": [
    "import pandas as pd"
   ]
  },
  {
   "cell_type": "code",
   "execution_count": 18,
   "metadata": {},
   "outputs": [
    {
     "ename": "NameError",
     "evalue": "name 'apc_file' is not defined",
     "output_type": "error",
     "traceback": [
      "\u001b[1;31m---------------------------------------------------------------------------\u001b[0m",
      "\u001b[1;31mNameError\u001b[0m                                 Traceback (most recent call last)",
      "\u001b[1;32m<ipython-input-18-36aa525c4807>\u001b[0m in \u001b[0;36m<module>\u001b[1;34m\u001b[0m\n\u001b[1;32m----> 1\u001b[1;33m \u001b[0mpd\u001b[0m\u001b[1;33m.\u001b[0m\u001b[0mread_csv\u001b[0m\u001b[1;33m(\u001b[0m\u001b[0mapc_file\u001b[0m\u001b[1;33m)\u001b[0m\u001b[1;33m\u001b[0m\u001b[1;33m\u001b[0m\u001b[0m\n\u001b[0m",
      "\u001b[1;31mNameError\u001b[0m: name 'apc_file' is not defined"
     ]
    }
   ],
   "source": [
    "pd.read_csv(apc_file)"
   ]
  },
  {
   "cell_type": "code",
   "execution_count": null,
   "metadata": {},
   "outputs": [],
   "source": []
  }
 ],
 "metadata": {
  "kernelspec": {
   "display_name": "Python 3",
   "language": "python",
   "name": "python3"
  },
  "language_info": {
   "codemirror_mode": {
    "name": "ipython",
    "version": 3
   },
   "file_extension": ".py",
   "mimetype": "text/x-python",
   "name": "python",
   "nbconvert_exporter": "python",
   "pygments_lexer": "ipython3",
   "version": "3.7.1"
  }
 },
 "nbformat": 4,
 "nbformat_minor": 2
}
