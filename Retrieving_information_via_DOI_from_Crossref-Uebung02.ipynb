{
 "cells": [
  {
   "cell_type": "code",
   "execution_count": 1,
   "metadata": {},
   "outputs": [],
   "source": [
    "import urllib.request\n",
    "import json"
   ]
  },
  {
   "cell_type": "code",
   "execution_count": 8,
   "metadata": {},
   "outputs": [],
   "source": [
    "base_url = \"https://api.crossref.org/works/\"\n",
    "dois = [\"10.1371/journal.pcbi.1004668\",\n",
    "        \"10.21105/joss.01035\",\n",
    "        \"10.1038/35057062\",\n",
    "        \"10.21105/joss.01006\"]"
   ]
  },
  {
   "cell_type": "code",
   "execution_count": 9,
   "metadata": {},
   "outputs": [
    {
     "data": {
      "text/plain": [
       "['10.1371/journal.pcbi.1004668',\n",
       " '10.21105/joss.01035',\n",
       " '10.1038/35057062',\n",
       " '10.21105/joss.01006']"
      ]
     },
     "execution_count": 9,
     "metadata": {},
     "output_type": "execute_result"
    }
   ],
   "source": [
    "dois"
   ]
  },
  {
   "cell_type": "code",
   "execution_count": 41,
   "metadata": {},
   "outputs": [
    {
     "name": "stdout",
     "output_type": "stream",
     "text": [
      "10.1371/journal.pcbi.1004668\n",
      "A Quick Introduction to Version Control with Git and GitHub\n",
      "PLoS Comput Biol\n",
      "\n",
      "10.21105/joss.01035\n",
      "nasapower: A NASA POWER Global Meteorology, Surface Solar Energy and Climatology Data Client for R\n",
      "JOSS\n",
      "\n",
      "10.1038/35057062\n",
      "Initial sequencing and analysis of the human genome\n",
      "Nature\n",
      "\n",
      "10.21105/joss.01006\n",
      "SeqTools: A python package for easy transformation, combination and evaluation of large datasets.\n",
      "JOSS\n",
      "\n"
     ]
    }
   ],
   "source": [
    "for doi in dois:\n",
    "   full_url = base_url + doi\n",
    "   doi_json_data = urllib.request.urlopen(full_url).read()\n",
    "   doi_data = json.loads(doi_json_data)\n",
    "   print(doi)\n",
    "   print(doi_data[\"message\"][\"title\"][0])\n",
    "   print(doi_data[\"message\"][\"short-container-title\"][0])\n",
    "   print()"
   ]
  },
  {
   "cell_type": "code",
   "execution_count": 29,
   "metadata": {},
   "outputs": [
    {
     "name": "stdout",
     "output_type": "stream",
     "text": [
      "https://api.crossref.org/works/10.1371/journal.pcbi.1004668\n",
      "https://api.crossref.org/works/10.21105/joss.01035\n",
      "https://api.crossref.org/works/10.1038/35057062\n",
      "https://api.crossref.org/works/10.21105/joss.01006\n"
     ]
    }
   ],
   "source": [
    "for doi in dois:\n",
    "    print(base_url + doi)"
   ]
  },
  {
   "cell_type": "code",
   "execution_count": 32,
   "metadata": {},
   "outputs": [],
   "source": [
    "doi_json_data = urllib.request.urlopen(full_url).read()"
   ]
  },
  {
   "cell_type": "code",
   "execution_count": 33,
   "metadata": {},
   "outputs": [
    {
     "name": "stdout",
     "output_type": "stream",
     "text": [
      "b'{\"status\":\"ok\",\"message-type\":\"work\",\"message-version\":\"1.0.0\",\"message\":{\"indexed\":{\"date-parts\":[[2019,2,18]],\"date-time\":\"2019-02-18T19:47:39Z\",\"timestamp\":1550519259427},\"reference-count\":2,\"publisher\":\"The Open Journal\",\"issue\":\"30\",\"license\":[{\"URL\":\"http:\\\\/\\\\/creativecommons.org\\\\/licenses\\\\/by\\\\/4.0\\\\/\",\"start\":{\"date-parts\":[[2018,10,26]],\"date-time\":\"2018-10-26T00:00:00Z\",\"timestamp\":1540512000000},\"delay-in-days\":0,\"content-version\":\"vor\"},{\"URL\":\"http:\\\\/\\\\/creativecommons.org\\\\/licenses\\\\/by\\\\/4.0\\\\/\",\"start\":{\"date-parts\":[[2018,10,26]],\"date-time\":\"2018-10-26T00:00:00Z\",\"timestamp\":1540512000000},\"delay-in-days\":0,\"content-version\":\"am\"},{\"URL\":\"http:\\\\/\\\\/creativecommons.org\\\\/licenses\\\\/by\\\\/4.0\\\\/\",\"start\":{\"date-parts\":[[2018,10,26]],\"date-time\":\"2018-10-26T00:00:00Z\",\"timestamp\":1540512000000},\"delay-in-days\":0,\"content-version\":\"tdm\"}],\"content-domain\":{\"domain\":[],\"crossmark-restriction\":false},\"short-container-title\":[\"JOSS\"],\"published-print\":{\"date-parts\":[[2018,10,26]]},\"DOI\":\"10.21105\\\\/joss.01006\",\"type\":\"journal-article\",\"created\":{\"date-parts\":[[2018,10,26]],\"date-time\":\"2018-10-26T20:04:42Z\",\"timestamp\":1540584282000},\"page\":\"1006\",\"source\":\"Crossref\",\"is-referenced-by-count\":0,\"title\":[\"SeqTools: A python package for easy transformation, combination and evaluation of large datasets.\"],\"prefix\":\"10.21105\",\"volume\":\"3\",\"author\":[{\"ORCID\":\"http:\\\\/\\\\/orcid.org\\\\/0000-0003-2943-9888\",\"authenticated-orcid\":false,\"given\":\"Nicolas\",\"family\":\"Granger\",\"sequence\":\"first\",\"affiliation\":[]},{\"ORCID\":\"http:\\\\/\\\\/orcid.org\\\\/0000-0002-7383-0588\",\"authenticated-orcid\":false,\"given\":\"Moun\\\\u00eem\",\"family\":\"Yacoubi\",\"sequence\":\"additional\",\"affiliation\":[]}],\"member\":\"8722\",\"reference\":[{\"key\":\"ref1\",\"unstructured\":\"TensorFlow: Large-Scale Machine Learning on Heterogeneous Systems, https:\\\\/\\\\/www.tensorflow.org\\\\/, Software available from tensorflow.org, Mart\\\\u0131\\\\u0301n\\\\u00a0Abadi and Ashish\\\\u00a0Agarwal and Paul\\\\u00a0Barham and Eugene\\\\u00a0Brevdo and Zhifeng\\\\u00a0Chen and Craig\\\\u00a0Citro and Greg\\\\u00a0S.\\\\u00a0Corrado and Andy\\\\u00a0Davis and Jeffrey\\\\u00a0Dean and Matthieu\\\\u00a0Devin and Sanjay\\\\u00a0Ghemawat and Ian\\\\u00a0Goodfellow and Andrew\\\\u00a0Harp and Geoffrey\\\\u00a0Irving and Michael\\\\u00a0Isard and Jia, Yangqing and Rafal\\\\u00a0Jozefowicz and Lukasz\\\\u00a0Kaiser and Manjunath\\\\u00a0Kudlur and Josh\\\\u00a0Levenberg and Dandelion\\\\u00a0Man\\\\u00e9 and Rajat\\\\u00a0Monga and Sherry\\\\u00a0Moore and Derek\\\\u00a0Murray and Chris\\\\u00a0Olah and Mike\\\\u00a0Schuster and Jonathon\\\\u00a0Shlens and Benoit\\\\u00a0Steiner and Ilya\\\\u00a0Sutskever and Kunal\\\\u00a0Talwar and Paul\\\\u00a0Tucker and Vincent\\\\u00a0Vanhoucke and Vijay\\\\u00a0Vasudevan and Fernanda\\\\u00a0Vi\\\\u00e9gas and Oriol\\\\u00a0Vinyals and Pete\\\\u00a0Warden and Martin\\\\u00a0Wattenberg and Martin\\\\u00a0Wicke and Yuan\\\\u00a0Yu and Xiaoqiang\\\\u00a0Zheng, 2015\"},{\"key\":\"ref2\",\"unstructured\":\"Automatic differentiation in PyTorch, Paszke, Adam and Gross, Sam and Chintala, Soumith and Chanan, Gregory and Yang, Edward and DeVito, Zachary and Lin, Zeming and Desmaison, Alban and Antiga, Luca and Lerer, Adam, NIPS-W, 2017\"}],\"container-title\":[\"Journal of Open Source Software\"],\"original-title\":[],\"link\":[{\"URL\":\"http:\\\\/\\\\/www.theoj.org\\\\/openjournals\\\\/joss-papers\\\\/joss.01006\\\\/10.21105.joss.01006.pdf\",\"content-type\":\"application\\\\/pdf\",\"content-version\":\"vor\",\"intended-application\":\"text-mining\"}],\"deposited\":{\"date-parts\":[[2018,10,26]],\"date-time\":\"2018-10-26T20:04:42Z\",\"timestamp\":1540584282000},\"score\":1.0,\"subtitle\":[],\"short-title\":[],\"issued\":{\"date-parts\":[[2018,10,26]]},\"references-count\":2,\"journal-issue\":{\"published-online\":{\"date-parts\":[[2018,10]]},\"issue\":\"30\"},\"alternative-id\":[\"10.21105\\\\/joss.01006\"],\"URL\":\"http:\\\\/\\\\/dx.doi.org\\\\/10.21105\\\\/joss.01006\",\"relation\":{\"references\":[{\"id-type\":\"doi\",\"id\":\"https:\\\\/\\\\/doi.org\\\\/10.5281\\\\/zenodo.1472094\",\"asserted-by\":\"subject\"}],\"has-review\":[{\"id-type\":\"uri\",\"id\":\"https:\\\\/\\\\/github.com\\\\/openjournals\\\\/joss-reviews\\\\/issues\\\\/1006\",\"asserted-by\":\"subject\"}],\"cites\":[]},\"ISSN\":[\"2475-9066\"],\"issn-type\":[{\"value\":\"2475-9066\",\"type\":\"electronic\"}]}}'\n"
     ]
    }
   ],
   "source": [
    "print(doi_json_data)"
   ]
  },
  {
   "cell_type": "code",
   "execution_count": 34,
   "metadata": {},
   "outputs": [],
   "source": [
    "doi_data = json.loads(doi_json_data)"
   ]
  },
  {
   "cell_type": "code",
   "execution_count": 35,
   "metadata": {},
   "outputs": [
    {
     "data": {
      "text/plain": [
       "dict"
      ]
     },
     "execution_count": 35,
     "metadata": {},
     "output_type": "execute_result"
    }
   ],
   "source": [
    "type(doi_data)"
   ]
  },
  {
   "cell_type": "code",
   "execution_count": 36,
   "metadata": {},
   "outputs": [
    {
     "data": {
      "text/plain": [
       "dict_keys(['status', 'message-type', 'message-version', 'message'])"
      ]
     },
     "execution_count": 36,
     "metadata": {},
     "output_type": "execute_result"
    }
   ],
   "source": [
    "doi_data.keys()"
   ]
  },
  {
   "cell_type": "code",
   "execution_count": 37,
   "metadata": {},
   "outputs": [
    {
     "data": {
      "text/plain": [
       "'ok'"
      ]
     },
     "execution_count": 37,
     "metadata": {},
     "output_type": "execute_result"
    }
   ],
   "source": [
    "doi_data[\"status\"]"
   ]
  },
  {
   "cell_type": "code",
   "execution_count": 38,
   "metadata": {},
   "outputs": [
    {
     "name": "stdout",
     "output_type": "stream",
     "text": [
      "{\n",
      "  \"status\": \"ok\",\n",
      "  \"message-type\": \"work\",\n",
      "  \"message-version\": \"1.0.0\",\n",
      "  \"message\": {\n",
      "    \"indexed\": {\n",
      "      \"date-parts\": [\n",
      "        [\n",
      "          2019,\n",
      "          2,\n",
      "          18\n",
      "        ]\n",
      "      ],\n",
      "      \"date-time\": \"2019-02-18T19:47:39Z\",\n",
      "      \"timestamp\": 1550519259427\n",
      "    },\n",
      "    \"reference-count\": 2,\n",
      "    \"publisher\": \"The Open Journal\",\n",
      "    \"issue\": \"30\",\n",
      "    \"license\": [\n",
      "      {\n",
      "        \"URL\": \"http://creativecommons.org/licenses/by/4.0/\",\n",
      "        \"start\": {\n",
      "          \"date-parts\": [\n",
      "            [\n",
      "              2018,\n",
      "              10,\n",
      "              26\n",
      "            ]\n",
      "          ],\n",
      "          \"date-time\": \"2018-10-26T00:00:00Z\",\n",
      "          \"timestamp\": 1540512000000\n",
      "        },\n",
      "        \"delay-in-days\": 0,\n",
      "        \"content-version\": \"vor\"\n",
      "      },\n",
      "      {\n",
      "        \"URL\": \"http://creativecommons.org/licenses/by/4.0/\",\n",
      "        \"start\": {\n",
      "          \"date-parts\": [\n",
      "            [\n",
      "              2018,\n",
      "              10,\n",
      "              26\n",
      "            ]\n",
      "          ],\n",
      "          \"date-time\": \"2018-10-26T00:00:00Z\",\n",
      "          \"timestamp\": 1540512000000\n",
      "        },\n",
      "        \"delay-in-days\": 0,\n",
      "        \"content-version\": \"am\"\n",
      "      },\n",
      "      {\n",
      "        \"URL\": \"http://creativecommons.org/licenses/by/4.0/\",\n",
      "        \"start\": {\n",
      "          \"date-parts\": [\n",
      "            [\n",
      "              2018,\n",
      "              10,\n",
      "              26\n",
      "            ]\n",
      "          ],\n",
      "          \"date-time\": \"2018-10-26T00:00:00Z\",\n",
      "          \"timestamp\": 1540512000000\n",
      "        },\n",
      "        \"delay-in-days\": 0,\n",
      "        \"content-version\": \"tdm\"\n",
      "      }\n",
      "    ],\n",
      "    \"content-domain\": {\n",
      "      \"domain\": [],\n",
      "      \"crossmark-restriction\": false\n",
      "    },\n",
      "    \"short-container-title\": [\n",
      "      \"JOSS\"\n",
      "    ],\n",
      "    \"published-print\": {\n",
      "      \"date-parts\": [\n",
      "        [\n",
      "          2018,\n",
      "          10,\n",
      "          26\n",
      "        ]\n",
      "      ]\n",
      "    },\n",
      "    \"DOI\": \"10.21105/joss.01006\",\n",
      "    \"type\": \"journal-article\",\n",
      "    \"created\": {\n",
      "      \"date-parts\": [\n",
      "        [\n",
      "          2018,\n",
      "          10,\n",
      "          26\n",
      "        ]\n",
      "      ],\n",
      "      \"date-time\": \"2018-10-26T20:04:42Z\",\n",
      "      \"timestamp\": 1540584282000\n",
      "    },\n",
      "    \"page\": \"1006\",\n",
      "    \"source\": \"Crossref\",\n",
      "    \"is-referenced-by-count\": 0,\n",
      "    \"title\": [\n",
      "      \"SeqTools: A python package for easy transformation, combination and evaluation of large datasets.\"\n",
      "    ],\n",
      "    \"prefix\": \"10.21105\",\n",
      "    \"volume\": \"3\",\n",
      "    \"author\": [\n",
      "      {\n",
      "        \"ORCID\": \"http://orcid.org/0000-0003-2943-9888\",\n",
      "        \"authenticated-orcid\": false,\n",
      "        \"given\": \"Nicolas\",\n",
      "        \"family\": \"Granger\",\n",
      "        \"sequence\": \"first\",\n",
      "        \"affiliation\": []\n",
      "      },\n",
      "      {\n",
      "        \"ORCID\": \"http://orcid.org/0000-0002-7383-0588\",\n",
      "        \"authenticated-orcid\": false,\n",
      "        \"given\": \"Moun\\u00eem\",\n",
      "        \"family\": \"Yacoubi\",\n",
      "        \"sequence\": \"additional\",\n",
      "        \"affiliation\": []\n",
      "      }\n",
      "    ],\n",
      "    \"member\": \"8722\",\n",
      "    \"reference\": [\n",
      "      {\n",
      "        \"key\": \"ref1\",\n",
      "        \"unstructured\": \"TensorFlow: Large-Scale Machine Learning on Heterogeneous Systems, https://www.tensorflow.org/, Software available from tensorflow.org, Mart\\u0131\\u0301n\\u00a0Abadi and Ashish\\u00a0Agarwal and Paul\\u00a0Barham and Eugene\\u00a0Brevdo and Zhifeng\\u00a0Chen and Craig\\u00a0Citro and Greg\\u00a0S.\\u00a0Corrado and Andy\\u00a0Davis and Jeffrey\\u00a0Dean and Matthieu\\u00a0Devin and Sanjay\\u00a0Ghemawat and Ian\\u00a0Goodfellow and Andrew\\u00a0Harp and Geoffrey\\u00a0Irving and Michael\\u00a0Isard and Jia, Yangqing and Rafal\\u00a0Jozefowicz and Lukasz\\u00a0Kaiser and Manjunath\\u00a0Kudlur and Josh\\u00a0Levenberg and Dandelion\\u00a0Man\\u00e9 and Rajat\\u00a0Monga and Sherry\\u00a0Moore and Derek\\u00a0Murray and Chris\\u00a0Olah and Mike\\u00a0Schuster and Jonathon\\u00a0Shlens and Benoit\\u00a0Steiner and Ilya\\u00a0Sutskever and Kunal\\u00a0Talwar and Paul\\u00a0Tucker and Vincent\\u00a0Vanhoucke and Vijay\\u00a0Vasudevan and Fernanda\\u00a0Vi\\u00e9gas and Oriol\\u00a0Vinyals and Pete\\u00a0Warden and Martin\\u00a0Wattenberg and Martin\\u00a0Wicke and Yuan\\u00a0Yu and Xiaoqiang\\u00a0Zheng, 2015\"\n",
      "      },\n",
      "      {\n",
      "        \"key\": \"ref2\",\n",
      "        \"unstructured\": \"Automatic differentiation in PyTorch, Paszke, Adam and Gross, Sam and Chintala, Soumith and Chanan, Gregory and Yang, Edward and DeVito, Zachary and Lin, Zeming and Desmaison, Alban and Antiga, Luca and Lerer, Adam, NIPS-W, 2017\"\n",
      "      }\n",
      "    ],\n",
      "    \"container-title\": [\n",
      "      \"Journal of Open Source Software\"\n",
      "    ],\n",
      "    \"original-title\": [],\n",
      "    \"link\": [\n",
      "      {\n",
      "        \"URL\": \"http://www.theoj.org/openjournals/joss-papers/joss.01006/10.21105.joss.01006.pdf\",\n",
      "        \"content-type\": \"application/pdf\",\n",
      "        \"content-version\": \"vor\",\n",
      "        \"intended-application\": \"text-mining\"\n",
      "      }\n",
      "    ],\n",
      "    \"deposited\": {\n",
      "      \"date-parts\": [\n",
      "        [\n",
      "          2018,\n",
      "          10,\n",
      "          26\n",
      "        ]\n",
      "      ],\n",
      "      \"date-time\": \"2018-10-26T20:04:42Z\",\n",
      "      \"timestamp\": 1540584282000\n",
      "    },\n",
      "    \"score\": 1.0,\n",
      "    \"subtitle\": [],\n",
      "    \"short-title\": [],\n",
      "    \"issued\": {\n",
      "      \"date-parts\": [\n",
      "        [\n",
      "          2018,\n",
      "          10,\n",
      "          26\n",
      "        ]\n",
      "      ]\n",
      "    },\n",
      "    \"references-count\": 2,\n",
      "    \"journal-issue\": {\n",
      "      \"published-online\": {\n",
      "        \"date-parts\": [\n",
      "          [\n",
      "            2018,\n",
      "            10\n",
      "          ]\n",
      "        ]\n",
      "      },\n",
      "      \"issue\": \"30\"\n",
      "    },\n",
      "    \"alternative-id\": [\n",
      "      \"10.21105/joss.01006\"\n",
      "    ],\n",
      "    \"URL\": \"http://dx.doi.org/10.21105/joss.01006\",\n",
      "    \"relation\": {\n",
      "      \"references\": [\n",
      "        {\n",
      "          \"id-type\": \"doi\",\n",
      "          \"id\": \"https://doi.org/10.5281/zenodo.1472094\",\n",
      "          \"asserted-by\": \"subject\"\n",
      "        }\n",
      "      ],\n",
      "      \"has-review\": [\n",
      "        {\n",
      "          \"id-type\": \"uri\",\n",
      "          \"id\": \"https://github.com/openjournals/joss-reviews/issues/1006\",\n",
      "          \"asserted-by\": \"subject\"\n",
      "        }\n",
      "      ],\n",
      "      \"cites\": []\n",
      "    },\n",
      "    \"ISSN\": [\n",
      "      \"2475-9066\"\n",
      "    ],\n",
      "    \"issn-type\": [\n",
      "      {\n",
      "        \"value\": \"2475-9066\",\n",
      "        \"type\": \"electronic\"\n",
      "      }\n",
      "    ]\n",
      "  }\n",
      "}\n"
     ]
    }
   ],
   "source": [
    "print(json.dumps(doi_data, indent=2))"
   ]
  },
  {
   "cell_type": "code",
   "execution_count": null,
   "metadata": {},
   "outputs": [],
   "source": []
  }
 ],
 "metadata": {
  "kernelspec": {
   "display_name": "Python 3",
   "language": "python",
   "name": "python3"
  },
  "language_info": {
   "codemirror_mode": {
    "name": "ipython",
    "version": 3
   },
   "file_extension": ".py",
   "mimetype": "text/x-python",
   "name": "python",
   "nbconvert_exporter": "python",
   "pygments_lexer": "ipython3",
   "version": "3.7.1"
  }
 },
 "nbformat": 4,
 "nbformat_minor": 2
}
